{
 "cells": [
  {
   "cell_type": "markdown",
   "source": [
    "# Algorithme de Grover - La bibliothèque quantique"
   ],
   "metadata": {
    "collapsed": false,
    "pycharm": {
     "name": "#%% md\n"
    }
   }
  },
  {
   "cell_type": "markdown",
   "source": [
    "Bob est victime d’un mauvais sort. Vous savez que le rituel pour lever cette malédiction est consigné dans un grimoire qui se trouve dans une bibliothèque quantique. Le problème est que dans une bibliothèque quantique, l’emprunt se fait toujours au hasard. Afin de maximiser vos chances d’emprunter le bon grimoire et ainsi lever le mauvais sort qui afflige Bob, vous utiliserez l’algorithme de Grover, la probabilité d’amplitude et l’interférence."
   ],
   "metadata": {
    "collapsed": false,
    "pycharm": {
     "name": "#%% md\n"
    }
   }
  },
  {
   "cell_type": "markdown",
   "source": [
    "# Imports"
   ],
   "metadata": {
    "collapsed": false,
    "pycharm": {
     "name": "#%% md\n"
    }
   }
  },
  {
   "cell_type": "code",
   "execution_count": 50,
   "outputs": [],
   "source": [
    "from qiskit import QuantumCircuit, Aer, transpile\n",
    "from qiskit_aer import AerSimulator\n",
    "from qiskit.visualization import plot_histogram"
   ],
   "metadata": {
    "collapsed": false,
    "pycharm": {
     "name": "#%%\n"
    }
   }
  },
  {
   "cell_type": "markdown",
   "source": [
    "# Création du circuit de l'énigme"
   ],
   "metadata": {
    "collapsed": false,
    "pycharm": {
     "name": "#%% md\n"
    }
   }
  },
  {
   "cell_type": "markdown",
   "source": [
    "On place des porte Hadamard sur q0 et q1 pour que tout les grimoires ai la même probabilité d'être empruntés."
   ],
   "metadata": {
    "collapsed": false,
    "pycharm": {
     "name": "#%% md\n"
    }
   }
  },
  {
   "cell_type": "code",
   "execution_count": 51,
   "outputs": [
    {
     "data": {
      "text/plain": "<qiskit.circuit.instructionset.InstructionSet at 0x1fa20bf1910>"
     },
     "execution_count": 51,
     "metadata": {},
     "output_type": "execute_result"
    }
   ],
   "source": [
    "circ = QuantumCircuit(2)\n",
    "circ.h(0)\n",
    "circ.h(1)\n",
    "circ.barrier()"
   ],
   "metadata": {
    "collapsed": false,
    "pycharm": {
     "name": "#%%\n"
    }
   }
  },
  {
   "cell_type": "code",
   "execution_count": 52,
   "outputs": [
    {
     "data": {
      "text/plain": "<Figure size 206.852x144.48 with 1 Axes>",
      "image/png": "[encoded data removed]"
     },
     "execution_count": 52,
     "metadata": {},
     "output_type": "execute_result"
    }
   ],
   "source": [
    "circ.draw(\"mpl\", style=\"iqx\")"
   ],
   "metadata": {
    "collapsed": false,
    "pycharm": {
     "name": "#%%\n"
    }
   }
  },
  {
   "cell_type": "markdown",
   "source": [
    "Les 2 qbits représentent les 4 grimoires de la bibliothèque."
   ],
   "metadata": {
    "collapsed": false,
    "pycharm": {
     "name": "#%% md\n"
    }
   }
  },
  {
   "cell_type": "markdown",
   "source": [
    "# Marquage du bon grimoire par Aïka"
   ],
   "metadata": {
    "collapsed": false,
    "pycharm": {
     "name": "#%% md\n"
    }
   }
  },
  {
   "cell_type": "code",
   "execution_count": 70,
   "outputs": [],
   "source": [
    "# Pour marquer le grimoire 1 par exemple, on inverse la phase de cet état\n",
    "# On applique des portes X suivies d'une porte CZ et on termine par des portes X\n",
    "\n",
    "grimoire = 3\n",
    "if grimoire == 1:\n",
    "    circ = QuantumCircuit(2)\n",
    "    circ.h(0)\n",
    "    circ.h(1)\n",
    "    circ.barrier()\n",
    "    circ.x(0)\n",
    "    circ.cz(0, 1)\n",
    "    circ.x(0)\n",
    "elif grimoire == 2:\n",
    "    circ = QuantumCircuit(2)\n",
    "    circ.h(0)\n",
    "    circ.h(1)\n",
    "    circ.barrier()\n",
    "    circ.x(1)\n",
    "    circ.cz(0, 1)\n",
    "    circ.x(1)\n",
    "elif grimoire == 3:\n",
    "    circ = QuantumCircuit(2)\n",
    "    circ.h(0)\n",
    "    circ.h(1)\n",
    "    circ.barrier()\n",
    "    circ.x(0)\n",
    "    circ.x(1)\n",
    "    circ.cz(0, 1)\n",
    "    circ.x(0)\n",
    "    circ.x(1)\n",
    "elif grimoire == 4:\n",
    "    circ = QuantumCircuit(2)\n",
    "    circ.h(0)\n",
    "    circ.h(1)\n",
    "    circ.barrier()\n",
    "    circ.cz(0, 1)\n",
    "    circ.barrier()"
   ],
   "metadata": {
    "collapsed": false,
    "pycharm": {
     "name": "#%%\n"
    }
   }
  },
  {
   "cell_type": "markdown",
   "source": [
    "Remarque : Cette partie doit être répétée pour chaque grimoire avec les portes appropriées, modifier la variable grimoire pour tester les différents cas."
   ],
   "metadata": {
    "collapsed": false,
    "pycharm": {
     "name": "#%% md\n"
    }
   }
  },
  {
   "cell_type": "markdown",
   "source": [
    "# Le diffuseur de Grover"
   ],
   "metadata": {
    "collapsed": false,
    "pycharm": {
     "name": "#%% md\n"
    }
   }
  },
  {
   "cell_type": "code",
   "execution_count": 71,
   "outputs": [
    {
     "data": {
      "text/plain": "<qiskit.circuit.instructionset.InstructionSet at 0x1fa20fc3fa0>"
     },
     "execution_count": 71,
     "metadata": {},
     "output_type": "execute_result"
    }
   ],
   "source": [
    "# Le diffuseur permet de mettre à zéro les probabilités de tous les grimoires sauf celui marqué\n",
    "circ.h(0)\n",
    "circ.h(1)\n",
    "circ.z(0)\n",
    "circ.z(1)\n",
    "circ.cz(0, 1)\n",
    "circ.h(0)\n",
    "circ.h(1)\n",
    "circ.barrier()"
   ],
   "metadata": {
    "collapsed": false,
    "pycharm": {
     "name": "#%%\n"
    }
   }
  },
  {
   "cell_type": "markdown",
   "source": [
    "# Simulation du circuit"
   ],
   "metadata": {
    "collapsed": false,
    "pycharm": {
     "name": "#%% md\n"
    }
   }
  },
  {
   "cell_type": "code",
   "execution_count": 72,
   "outputs": [],
   "source": [
    "# Ajout de la mesure sur tous les qubits\n",
    "circ.measure_all()\n",
    "# Préparation du simulateur\n",
    "simulator = Aer.get_backend('aer_simulator')\n",
    "# Transpilation du circuit pour le simulateur\n",
    "circ = transpile(circ, simulator)\n",
    "# Exécution de la simulation\n",
    "result = simulator.run(circ).result()\n",
    "# Récupération des résultats\n",
    "counts = result.get_counts(circ)"
   ],
   "metadata": {
    "collapsed": false,
    "pycharm": {
     "name": "#%%\n"
    }
   }
  },
  {
   "cell_type": "code",
   "execution_count": 73,
   "outputs": [
    {
     "data": {
      "text/plain": "<Figure size 779.079x204.68 with 1 Axes>",
      "image/png": "[encoded data removed]"
     },
     "execution_count": 73,
     "metadata": {},
     "output_type": "execute_result"
    }
   ],
   "source": [
    "circ.draw(\"mpl\", style=\"iqx\")"
   ],
   "metadata": {
    "collapsed": false,
    "pycharm": {
     "name": "#%%\n"
    }
   }
  },
  {
   "cell_type": "markdown",
   "source": [
    "# Visualisation des résultats"
   ],
   "metadata": {
    "collapsed": false,
    "pycharm": {
     "name": "#%% md\n"
    }
   }
  },
  {
   "cell_type": "code",
   "execution_count": 74,
   "outputs": [
    {
     "data": {
      "text/plain": "<Figure size 504x360 with 1 Axes>",
      "image/png": "[encoded data removed]"
     },
     "execution_count": 74,
     "metadata": {},
     "output_type": "execute_result"
    }
   ],
   "source": [
    "# Affichage d'un histogramme des résultats\n",
    "plot_histogram(counts, title=\"Répartition des résultats\")"
   ],
   "metadata": {
    "collapsed": false,
    "pycharm": {
     "name": "#%%\n"
    }
   }
  },
  {
   "cell_type": "markdown",
   "source": [
    "Et on répète l'opération pour chaque grimoire"
   ],
   "metadata": {
    "collapsed": false,
    "pycharm": {
     "name": "#%% md\n"
    }
   }
  },
  {
   "cell_type": "markdown",
   "source": [],
   "metadata": {
    "collapsed": false,
    "pycharm": {
     "name": "#%% md\n"
    }
   }
  },
  {
   "cell_type": "markdown",
   "source": [
    "l'algorithme de Grover est utilisé pour résoudre le problème de la recherche d'un grimoire spécifique dans une bibliothèque quantique, en créant une superposition d'états et en inversant la phase du bon grimoire. Cela conduit à une amplification de la probabilité de mesurer l'état souhaité."
   ],
   "metadata": {
    "collapsed": false,
    "pycharm": {
     "name": "#%% md\n"
    }
   }
  }
 ],
 "metadata": {
  "kernelspec": {
   "display_name": "Python 3",
   "language": "python",
   "name": "python3"
  },
  "language_info": {
   "codemirror_mode": {
    "name": "ipython",
    "version": 2
   },
   "file_extension": ".py",
   "mimetype": "text/x-python",
   "name": "python",
   "nbconvert_exporter": "python",
   "pygments_lexer": "ipython2",
   "version": "2.7.6"
  }
 },
 "nbformat": 4,
 "nbformat_minor": 0
}