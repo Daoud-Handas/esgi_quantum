{
 "cells": [
  {
   "cell_type": "markdown",
   "source": [
    "# Imports"
   ],
   "metadata": {
    "collapsed": false,
    "pycharm": {
     "name": "#%% md\n"
    }
   }
  },
  {
   "cell_type": "code",
   "execution_count": 1,
   "outputs": [],
   "source": [
    "from qiskit import QuantumCircuit"
   ],
   "metadata": {
    "collapsed": false,
    "pycharm": {
     "name": "#%%\n"
    }
   }
  },
  {
   "cell_type": "code",
   "execution_count": 3,
   "outputs": [
    {
     "data": {
      "text/plain": "<Figure size 206.852x144.48 with 1 Axes>",
      "image/png": "[encoded data removed]"
     },
     "execution_count": 3,
     "metadata": {},
     "output_type": "execute_result"
    }
   ],
   "source": [
    "# Create a new circuit with two qubits (first argument) and two classical\n",
    "# bits (second argument)\n",
    "qc = QuantumCircuit(2)\n",
    "\n",
    "# Add a Hadamard gate to qubit 0\n",
    "qc.h(0)\n",
    "\n",
    "# Perform a controlled-X gate on qubit 1, controlled by qubit 0\n",
    "qc.cx(0, 1)\n",
    "\n",
    "# Return a drawing of the circuit using MatPlotLib (\"mpl\"). This is the\n",
    "# last line of the cell, so the drawing appears in the cell output.\n",
    "# Remove the \"mpl\" argument to get a text drawing.\n",
    "qc.draw(\"mpl\")"
   ],
   "metadata": {
    "collapsed": false,
    "pycharm": {
     "name": "#%%\n"
    }
   }
  },
  {
   "cell_type": "code",
   "execution_count": 5,
   "outputs": [],
   "source": [
    "from qiskit.quantum_info import Pauli\n",
    "\n",
    "ZZ = Pauli('ZZ')\n",
    "ZI = Pauli('ZI')\n",
    "IZ = Pauli('IZ')\n",
    "XX = Pauli('XX')\n",
    "XI = Pauli('XI')\n",
    "IX = Pauli('IX')"
   ],
   "metadata": {
    "collapsed": false,
    "pycharm": {
     "name": "#%%\n"
    }
   }
  },
  {
   "cell_type": "markdown",
   "source": [
    "# Enregistrement des informations de connexion"
   ],
   "metadata": {
    "collapsed": false,
    "pycharm": {
     "name": "#%% md\n"
    }
   }
  },
  {
   "cell_type": "code",
   "execution_count": 9,
   "outputs": [
    {
     "ename": "AccountAlreadyExistsError",
     "evalue": "'Named account (default-ibm-quantum) already exists. Set overwrite=True to overwrite.'",
     "output_type": "error",
     "traceback": [
      "\u001B[1;31m---------------------------------------------------------------------------\u001B[0m",
      "\u001B[1;31mAccountAlreadyExistsError\u001B[0m                 Traceback (most recent call last)",
      "Input \u001B[1;32mIn [9]\u001B[0m, in \u001B[0;36m<cell line: 4>\u001B[1;34m()\u001B[0m\n\u001B[0;32m      1\u001B[0m \u001B[38;5;28;01mfrom\u001B[39;00m \u001B[38;5;21;01mqiskit_ibm_runtime\u001B[39;00m \u001B[38;5;28;01mimport\u001B[39;00m QiskitRuntimeService\n\u001B[0;32m      3\u001B[0m \u001B[38;5;66;03m# Save an IBM Quantum account and set it as your default account.\u001B[39;00m\n\u001B[1;32m----> 4\u001B[0m \u001B[43mQiskitRuntimeService\u001B[49m\u001B[38;5;241;43m.\u001B[39;49m\u001B[43msave_account\u001B[49m\u001B[43m(\u001B[49m\u001B[43mchannel\u001B[49m\u001B[38;5;241;43m=\u001B[39;49m\u001B[38;5;124;43m\"\u001B[39;49m\u001B[38;5;124;43mibm_quantum\u001B[39;49m\u001B[38;5;124;43m\"\u001B[39;49m\u001B[43m,\u001B[49m\u001B[43m \u001B[49m\u001B[43mtoken\u001B[49m\u001B[38;5;241;43m=\u001B[39;49m\u001B[38;5;124;43m\"\u001B[39;49m\u001B[38;5;124;43m38c9bafccc20019506ffa794b1ddde76b4653aa08cfec09108d54f1165738abca2aeec54df77cc9f2cdf964f844f5ee631b0465aded8a75fa1e0d119deb2bcb9\u001B[39;49m\u001B[38;5;124;43m\"\u001B[39;49m\u001B[43m,\u001B[49m\u001B[43m \u001B[49m\u001B[43mset_as_default\u001B[49m\u001B[38;5;241;43m=\u001B[39;49m\u001B[38;5;28;43;01mTrue\u001B[39;49;00m\u001B[43m)\u001B[49m\n\u001B[0;32m      6\u001B[0m \u001B[38;5;66;03m# Load saved credentials\u001B[39;00m\n\u001B[0;32m      7\u001B[0m service \u001B[38;5;241m=\u001B[39m QiskitRuntimeService()\n",
      "File \u001B[1;32mc:\\users\\daoud\\appdata\\local\\programs\\python\\python39\\lib\\site-packages\\qiskit_ibm_runtime\\qiskit_runtime_service.py:719\u001B[0m, in \u001B[0;36mQiskitRuntimeService.save_account\u001B[1;34m(token, url, instance, channel, filename, name, proxies, verify, overwrite, channel_strategy, set_as_default)\u001B[0m\n\u001B[0;32m    682\u001B[0m \u001B[38;5;129m@staticmethod\u001B[39m\n\u001B[0;32m    683\u001B[0m \u001B[38;5;28;01mdef\u001B[39;00m \u001B[38;5;21msave_account\u001B[39m(\n\u001B[0;32m    684\u001B[0m     token: Optional[\u001B[38;5;28mstr\u001B[39m] \u001B[38;5;241m=\u001B[39m \u001B[38;5;28;01mNone\u001B[39;00m,\n\u001B[1;32m   (...)\u001B[0m\n\u001B[0;32m    694\u001B[0m     set_as_default: Optional[\u001B[38;5;28mbool\u001B[39m] \u001B[38;5;241m=\u001B[39m \u001B[38;5;28;01mNone\u001B[39;00m,\n\u001B[0;32m    695\u001B[0m ) \u001B[38;5;241m-\u001B[39m\u001B[38;5;241m>\u001B[39m \u001B[38;5;28;01mNone\u001B[39;00m:\n\u001B[0;32m    696\u001B[0m     \u001B[38;5;124;03m\"\"\"Save the account to disk for future use.\u001B[39;00m\n\u001B[0;32m    697\u001B[0m \n\u001B[0;32m    698\u001B[0m \u001B[38;5;124;03m    Args:\u001B[39;00m\n\u001B[1;32m   (...)\u001B[0m\n\u001B[0;32m    716\u001B[0m \u001B[38;5;124;03m            as the default account.\u001B[39;00m\n\u001B[0;32m    717\u001B[0m \u001B[38;5;124;03m    \"\"\"\u001B[39;00m\n\u001B[1;32m--> 719\u001B[0m     \u001B[43mAccountManager\u001B[49m\u001B[38;5;241;43m.\u001B[39;49m\u001B[43msave\u001B[49m\u001B[43m(\u001B[49m\n\u001B[0;32m    720\u001B[0m \u001B[43m        \u001B[49m\u001B[43mtoken\u001B[49m\u001B[38;5;241;43m=\u001B[39;49m\u001B[43mtoken\u001B[49m\u001B[43m,\u001B[49m\n\u001B[0;32m    721\u001B[0m \u001B[43m        \u001B[49m\u001B[43murl\u001B[49m\u001B[38;5;241;43m=\u001B[39;49m\u001B[43murl\u001B[49m\u001B[43m,\u001B[49m\n\u001B[0;32m    722\u001B[0m \u001B[43m        \u001B[49m\u001B[43minstance\u001B[49m\u001B[38;5;241;43m=\u001B[39;49m\u001B[43minstance\u001B[49m\u001B[43m,\u001B[49m\n\u001B[0;32m    723\u001B[0m \u001B[43m        \u001B[49m\u001B[43mchannel\u001B[49m\u001B[38;5;241;43m=\u001B[39;49m\u001B[43mchannel\u001B[49m\u001B[43m,\u001B[49m\n\u001B[0;32m    724\u001B[0m \u001B[43m        \u001B[49m\u001B[43mfilename\u001B[49m\u001B[38;5;241;43m=\u001B[39;49m\u001B[43mfilename\u001B[49m\u001B[43m,\u001B[49m\n\u001B[0;32m    725\u001B[0m \u001B[43m        \u001B[49m\u001B[43mname\u001B[49m\u001B[38;5;241;43m=\u001B[39;49m\u001B[43mname\u001B[49m\u001B[43m,\u001B[49m\n\u001B[0;32m    726\u001B[0m \u001B[43m        \u001B[49m\u001B[43mproxies\u001B[49m\u001B[38;5;241;43m=\u001B[39;49m\u001B[43mProxyConfiguration\u001B[49m\u001B[43m(\u001B[49m\u001B[38;5;241;43m*\u001B[39;49m\u001B[38;5;241;43m*\u001B[39;49m\u001B[43mproxies\u001B[49m\u001B[43m)\u001B[49m\u001B[43m \u001B[49m\u001B[38;5;28;43;01mif\u001B[39;49;00m\u001B[43m \u001B[49m\u001B[43mproxies\u001B[49m\u001B[43m \u001B[49m\u001B[38;5;28;43;01melse\u001B[39;49;00m\u001B[43m \u001B[49m\u001B[38;5;28;43;01mNone\u001B[39;49;00m\u001B[43m,\u001B[49m\n\u001B[0;32m    727\u001B[0m \u001B[43m        \u001B[49m\u001B[43mverify\u001B[49m\u001B[38;5;241;43m=\u001B[39;49m\u001B[43mverify\u001B[49m\u001B[43m,\u001B[49m\n\u001B[0;32m    728\u001B[0m \u001B[43m        \u001B[49m\u001B[43moverwrite\u001B[49m\u001B[38;5;241;43m=\u001B[39;49m\u001B[43moverwrite\u001B[49m\u001B[43m,\u001B[49m\n\u001B[0;32m    729\u001B[0m \u001B[43m        \u001B[49m\u001B[43mchannel_strategy\u001B[49m\u001B[38;5;241;43m=\u001B[39;49m\u001B[43mchannel_strategy\u001B[49m\u001B[43m,\u001B[49m\n\u001B[0;32m    730\u001B[0m \u001B[43m        \u001B[49m\u001B[43mset_as_default\u001B[49m\u001B[38;5;241;43m=\u001B[39;49m\u001B[43mset_as_default\u001B[49m\u001B[43m,\u001B[49m\n\u001B[0;32m    731\u001B[0m \u001B[43m    \u001B[49m\u001B[43m)\u001B[49m\n",
      "File \u001B[1;32mc:\\users\\daoud\\appdata\\local\\programs\\python\\python39\\lib\\site-packages\\qiskit_ibm_runtime\\accounts\\management.py:67\u001B[0m, in \u001B[0;36mAccountManager.save\u001B[1;34m(cls, token, url, instance, channel, filename, name, proxies, verify, overwrite, channel_strategy, set_as_default)\u001B[0m\n\u001B[0;32m     57\u001B[0m filename \u001B[38;5;241m=\u001B[39m os\u001B[38;5;241m.\u001B[39mpath\u001B[38;5;241m.\u001B[39mexpanduser(filename)\n\u001B[0;32m     58\u001B[0m config \u001B[38;5;241m=\u001B[39m Account\u001B[38;5;241m.\u001B[39mcreate_account(\n\u001B[0;32m     59\u001B[0m     channel\u001B[38;5;241m=\u001B[39mchannel,\n\u001B[0;32m     60\u001B[0m     token\u001B[38;5;241m=\u001B[39mtoken,\n\u001B[1;32m   (...)\u001B[0m\n\u001B[0;32m     65\u001B[0m     channel_strategy\u001B[38;5;241m=\u001B[39mchannel_strategy,\n\u001B[0;32m     66\u001B[0m )\n\u001B[1;32m---> 67\u001B[0m \u001B[38;5;28;01mreturn\u001B[39;00m \u001B[43msave_config\u001B[49m\u001B[43m(\u001B[49m\n\u001B[0;32m     68\u001B[0m \u001B[43m    \u001B[49m\u001B[43mfilename\u001B[49m\u001B[38;5;241;43m=\u001B[39;49m\u001B[43mfilename\u001B[49m\u001B[43m,\u001B[49m\n\u001B[0;32m     69\u001B[0m \u001B[43m    \u001B[49m\u001B[43mname\u001B[49m\u001B[38;5;241;43m=\u001B[39;49m\u001B[43mname\u001B[49m\u001B[43m,\u001B[49m\n\u001B[0;32m     70\u001B[0m \u001B[43m    \u001B[49m\u001B[43moverwrite\u001B[49m\u001B[38;5;241;43m=\u001B[39;49m\u001B[43moverwrite\u001B[49m\u001B[43m,\u001B[49m\n\u001B[0;32m     71\u001B[0m \u001B[43m    \u001B[49m\u001B[43mconfig\u001B[49m\u001B[38;5;241;43m=\u001B[39;49m\u001B[43mconfig\u001B[49m\n\u001B[0;32m     72\u001B[0m \u001B[43m    \u001B[49m\u001B[38;5;66;43;03m# avoid storing invalid accounts\u001B[39;49;00m\n\u001B[0;32m     73\u001B[0m \u001B[43m    \u001B[49m\u001B[38;5;241;43m.\u001B[39;49m\u001B[43mvalidate\u001B[49m\u001B[43m(\u001B[49m\u001B[43m)\u001B[49m\u001B[38;5;241;43m.\u001B[39;49m\u001B[43mto_saved_format\u001B[49m\u001B[43m(\u001B[49m\u001B[43m)\u001B[49m\u001B[43m,\u001B[49m\n\u001B[0;32m     74\u001B[0m \u001B[43m    \u001B[49m\u001B[43mset_as_default\u001B[49m\u001B[38;5;241;43m=\u001B[39;49m\u001B[43mset_as_default\u001B[49m\u001B[43m,\u001B[49m\n\u001B[0;32m     75\u001B[0m \u001B[43m\u001B[49m\u001B[43m)\u001B[49m\n",
      "File \u001B[1;32mc:\\users\\daoud\\appdata\\local\\programs\\python\\python39\\lib\\site-packages\\qiskit_ibm_runtime\\accounts\\storage.py:36\u001B[0m, in \u001B[0;36msave_config\u001B[1;34m(filename, name, config, overwrite, set_as_default)\u001B[0m\n\u001B[0;32m     33\u001B[0m     data \u001B[38;5;241m=\u001B[39m json\u001B[38;5;241m.\u001B[39mload(json_in)\n\u001B[0;32m     35\u001B[0m \u001B[38;5;28;01mif\u001B[39;00m data\u001B[38;5;241m.\u001B[39mget(name) \u001B[38;5;129;01mand\u001B[39;00m \u001B[38;5;129;01mnot\u001B[39;00m overwrite:\n\u001B[1;32m---> 36\u001B[0m     \u001B[38;5;28;01mraise\u001B[39;00m AccountAlreadyExistsError(\n\u001B[0;32m     37\u001B[0m         \u001B[38;5;124mf\u001B[39m\u001B[38;5;124m\"\u001B[39m\u001B[38;5;124mNamed account (\u001B[39m\u001B[38;5;132;01m{\u001B[39;00mname\u001B[38;5;132;01m}\u001B[39;00m\u001B[38;5;124m) already exists. \u001B[39m\u001B[38;5;124m\"\u001B[39m \u001B[38;5;124mf\u001B[39m\u001B[38;5;124m\"\u001B[39m\u001B[38;5;124mSet overwrite=True to overwrite.\u001B[39m\u001B[38;5;124m\"\u001B[39m\n\u001B[0;32m     38\u001B[0m     )\n\u001B[0;32m     40\u001B[0m data[name] \u001B[38;5;241m=\u001B[39m config\n\u001B[0;32m     42\u001B[0m \u001B[38;5;66;03m# if set_as_default, but another account is defined as default, user must specify overwrite to change\u001B[39;00m\n\u001B[0;32m     43\u001B[0m \u001B[38;5;66;03m# the default account.\u001B[39;00m\n",
      "\u001B[1;31mAccountAlreadyExistsError\u001B[0m: 'Named account (default-ibm-quantum) already exists. Set overwrite=True to overwrite.'"
     ]
    }
   ],
   "source": [
    "from qiskit_ibm_runtime import QiskitRuntimeService\n",
    "\n",
    "# Save an IBM Quantum account and set it as your default account.\n",
    "QiskitRuntimeService.save_account(channel=\"ibm_quantum\", token=\"38c9bafccc20019506ffa794b1ddde76b4653aa08cfec09108d54f1165738abca2aeec54df77cc9f2cdf964f844f5ee631b0465aded8a75fa1e0d119deb2bcb9\", set_as_default=True)\n",
    "\n",
    "# Load saved credentials\n",
    "service = QiskitRuntimeService()"
   ],
   "metadata": {
    "collapsed": false,
    "pycharm": {
     "name": "#%%\n"
    }
   }
  },
  {
   "cell_type": "code",
   "execution_count": 10,
   "outputs": [
    {
     "name": "stderr",
     "output_type": "stream",
     "text": [
      "runtime_job._start_websocket_client:WARNING:2023-11-10 17:58:54,106: An error occurred while streaming results from the server for job cn6zmkjxhnxg008dkb5g:\n",
      "Traceback (most recent call last):\n",
      "  File \"c:\\users\\daoud\\appdata\\local\\programs\\python\\python39\\lib\\site-packages\\qiskit_ibm_runtime\\runtime_job.py\", line 536, in _start_websocket_client\n",
      "    self._ws_client.job_results()\n",
      "  File \"c:\\users\\daoud\\appdata\\local\\programs\\python\\python39\\lib\\site-packages\\qiskit_ibm_provider\\api\\clients\\runtime_ws.py\", line 70, in job_results\n",
      "    self.stream(url=url, retries=max_retries, backoff_factor=backoff_factor)\n",
      "  File \"c:\\users\\daoud\\appdata\\local\\programs\\python\\python39\\lib\\site-packages\\qiskit_ibm_provider\\api\\clients\\base.py\", line 230, in stream\n",
      "    raise WebsocketError(error_message)\n",
      "qiskit_ibm_provider.api.exceptions.WebsocketError: 'Max retries exceeded: Failed to establish a websocket connection. Error: Traceback (most recent call last):\\n  File \"c:\\\\users\\\\daoud\\\\appdata\\\\local\\\\programs\\\\python\\\\python39\\\\lib\\\\site-packages\\\\websocket\\\\_app.py\", line 434, in setSock\\n    dispatcher.read(self.sock.sock, read, check)\\n  File \"c:\\\\users\\\\daoud\\\\appdata\\\\local\\\\programs\\\\python\\\\python39\\\\lib\\\\site-packages\\\\websocket\\\\_app.py\", line 99, in read\\n    if not read_callback():\\n  File \"c:\\\\users\\\\daoud\\\\appdata\\\\local\\\\programs\\\\python\\\\python39\\\\lib\\\\site-packages\\\\websocket\\\\_app.py\", line 443, in read\\n    op_code, frame = self.sock.recv_data_frame(True)\\n  File \"c:\\\\users\\\\daoud\\\\appdata\\\\local\\\\programs\\\\python\\\\python39\\\\lib\\\\site-packages\\\\websocket\\\\_core.py\", line 408, in recv_data_frame\\n    frame = self.recv_frame()\\n  File \"c:\\\\users\\\\daoud\\\\appdata\\\\local\\\\programs\\\\python\\\\python39\\\\lib\\\\site-packages\\\\websocket\\\\_core.py\", line 447, in recv_frame\\n    return self.frame_buffer.recv_frame()\\n  File \"c:\\\\users\\\\daoud\\\\appdata\\\\local\\\\programs\\\\python\\\\python39\\\\lib\\\\site-packages\\\\websocket\\\\_abnf.py\", line 340, in recv_frame\\n    self.recv_header()\\n  File \"c:\\\\users\\\\daoud\\\\appdata\\\\local\\\\programs\\\\python\\\\python39\\\\lib\\\\site-packages\\\\websocket\\\\_abnf.py\", line 296, in recv_header\\n    header = self.recv_strict(2)\\n  File \"c:\\\\users\\\\daoud\\\\appdata\\\\local\\\\programs\\\\python\\\\python39\\\\lib\\\\site-packages\\\\websocket\\\\_abnf.py\", line 375, in recv_strict\\n    bytes_ = self.recv(min(16384, shortage))\\n  File \"c:\\\\users\\\\daoud\\\\appdata\\\\local\\\\programs\\\\python\\\\python39\\\\lib\\\\site-packages\\\\websocket\\\\_core.py\", line 531, in _recv\\n    return recv(self.sock, bufsize)\\n  File \"c:\\\\users\\\\daoud\\\\appdata\\\\local\\\\programs\\\\python\\\\python39\\\\lib\\\\site-packages\\\\websocket\\\\_socket.py\", line 110, in recv\\n    bytes_ = _recv()\\n  File \"c:\\\\users\\\\daoud\\\\appdata\\\\local\\\\programs\\\\python\\\\python39\\\\lib\\\\site-packages\\\\websocket\\\\_socket.py\", line 89, in _recv\\n    return sock.recv(bufsize)\\n  File \"c:\\\\users\\\\daoud\\\\appdata\\\\local\\\\programs\\\\python\\\\python39\\\\lib\\\\ssl.py\", line 1226, in recv\\n    return self.read(buflen)\\n  File \"c:\\\\users\\\\daoud\\\\appdata\\\\local\\\\programs\\\\python\\\\python39\\\\lib\\\\ssl.py\", line 1101, in read\\n    return self._sslobj.read(len)\\nConnectionResetError: [WinError 10054] Une connexion existante a dû être fermée par l’hôte distant\\n'\n",
      "\n"
     ]
    },
    {
     "data": {
      "text/plain": "EstimatorResult(values=array([ 0.02451561, -0.15596998,  0.03021347, -0.15191843,  0.994405  ,\n        1.01371819]), metadata=[{'variance': 1.1196051692003077, 'shots': 5008, 'readout_mitigation_num_twirled_circuits': 16, 'readout_mitigation_shots_calibration': 8192}, {'variance': 1.0958795486210424, 'shots': 5008, 'readout_mitigation_num_twirled_circuits': 16, 'readout_mitigation_shots_calibration': 8192}, {'variance': 1.1344982522609202, 'shots': 5008, 'readout_mitigation_num_twirled_circuits': 16, 'readout_mitigation_shots_calibration': 8192}, {'variance': 1.1123318969182805, 'shots': 5008, 'readout_mitigation_num_twirled_circuits': 16, 'readout_mitigation_shots_calibration': 8192}, {'variance': 0.2760115769625315, 'shots': 5008, 'readout_mitigation_num_twirled_circuits': 16, 'readout_mitigation_shots_calibration': 8192}, {'variance': 0.2372283010962399, 'shots': 5008, 'readout_mitigation_num_twirled_circuits': 16, 'readout_mitigation_shots_calibration': 8192}])"
     },
     "execution_count": 10,
     "metadata": {},
     "output_type": "execute_result"
    }
   ],
   "source": [
    "# !pip install qiskit_ibm_runtime\n",
    "from qiskit_ibm_runtime import QiskitRuntimeService, Estimator, Options\n",
    "\n",
    "service = QiskitRuntimeService()\n",
    "\n",
    "# Run on the least-busy backend you have access to\n",
    "backend = service.least_busy(simulator=False, operational=True)\n",
    "\n",
    "options = Options()\n",
    "options.resilience_level = 1\n",
    "options.optimization_level = 3\n",
    "\n",
    "# Create an Estimator object\n",
    "estimator = Estimator(backend, options=options)\n",
    "\n",
    "# Submit the circuit to Estimator\n",
    "job = estimator.run(circuits=[qc]*6, observables=[IZ, IX, ZI, XI, ZZ, XX], shots = 5000)\n",
    "\n",
    "# Once the job is complete, get the result\n",
    "job.result()"
   ],
   "metadata": {
    "collapsed": false,
    "pycharm": {
     "name": "#%%\n"
    }
   }
  },
  {
   "cell_type": "markdown",
   "source": [
    "# Analyser les résultats"
   ],
   "metadata": {
    "collapsed": false,
    "pycharm": {
     "name": "#%% md\n"
    }
   }
  },
  {
   "cell_type": "code",
   "execution_count": 11,
   "outputs": [
    {
     "data": {
      "text/plain": "<Figure size 432x288 with 1 Axes>",
      "image/png": "[encoded data removed]"
     },
     "metadata": {
      "needs_background": "light"
     },
     "output_type": "display_data"
    }
   ],
   "source": [
    "import matplotlib.pyplot as plt\n",
    "import numpy as np\n",
    "\n",
    "# data\n",
    "data = ['IZ', 'IX', 'ZI', 'XI', 'ZZ', 'XX']\n",
    "values = job.result().values\n",
    "\n",
    "# creating error bars\n",
    "error = []\n",
    "for case in job.result().metadata:\n",
    "    error.append(2*np.sqrt(case['variance']/case['shots']))\n",
    "\n",
    "# plotting graph\n",
    "plt.plot(data, values)\n",
    "plt.errorbar(data, values, yerr = error, fmt ='o')\n",
    "plt.xlabel('Observables')\n",
    "plt.ylabel('Values')\n",
    "plt.show()"
   ],
   "metadata": {
    "collapsed": false,
    "pycharm": {
     "name": "#%%\n"
    }
   }
  }
 ],
 "metadata": {
  "kernelspec": {
   "display_name": "Python 3",
   "language": "python",
   "name": "python3"
  },
  "language_info": {
   "codemirror_mode": {
    "name": "ipython",
    "version": 2
   },
   "file_extension": ".py",
   "mimetype": "text/x-python",
   "name": "python",
   "nbconvert_exporter": "python",
   "pygments_lexer": "ipython2",
   "version": "2.7.6"
  }
 },
 "nbformat": 4,
 "nbformat_minor": 0
}